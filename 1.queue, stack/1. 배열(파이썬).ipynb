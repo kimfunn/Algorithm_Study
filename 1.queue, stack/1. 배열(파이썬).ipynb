{
 "cells": [
  {
   "cell_type": "markdown",
   "id": "8e2f3ab1",
   "metadata": {},
   "source": [
    "# 배열(Array)\n",
    "    \n",
    "    - 데이터를 나열하고, 각 데이터를 인덱스에 대응하도록 구성한 데이터 구조\n",
    "    - 파이썬에서는 리스트타입이 배열 기능을 제공하고 있음"
   ]
  },
  {
   "cell_type": "markdown",
   "id": "08bbacd7",
   "metadata": {},
   "source": [
    "## 1. 배열이 왜 필요할까?\n",
    " - 같은 종류의 데이터를 효율적으로 관리하기 위해 사용\n",
    " - 같은 종류의 데이터를 순차적으로 저장\n",
    "\n",
    "\n",
    "\n"
   ]
  },
  {
   "cell_type": "markdown",
   "id": "e7201d51",
   "metadata": {},
   "source": [
    "### 1) 배열의 장점\n",
    "        - 빠른 접근 가능\n",
    "### 2) 배열의 단점\n",
    "        - 데이터 추가가 어렵다\n",
    "            - 배열을 구성하려면 배열의 사이즈를 미리 설정해야함(나는 6가지 정도의 연관된 데이터를 넣을 것이다 라는 설정이 필요함)\n",
    "            - 데이터를 추가하려고 하면 배열에서는 추가 공간을 만들어야하고 새로운 배열을 만들어야함 \n",
    "        - 중간에 있는 데이터를 빼는 것이 (없는 공간/ 빈공간) 안됨"
   ]
  },
  {
   "cell_type": "markdown",
   "id": "44657d03",
   "metadata": {},
   "source": [
    "## 2. 파이썬과 C언어의 배열 예제"
   ]
  },
  {
   "cell_type": "raw",
   "id": "d6b5a1fe",
   "metadata": {},
   "source": [
    "#include <stdio.h>\n",
    "\n",
    "int main(int argc, char * argv[])\n",
    "{\n",
    "    char country[3] = \"US\";\n",
    "    printf (\"%c%c\\n\", country[0], country[1]);\n",
    "    printf (\"%s\\n\", country);    \n",
    "    return 0;\n",
    "}"
   ]
  },
  {
   "cell_type": "markdown",
   "id": "03796656",
   "metadata": {},
   "source": [
    "- c언어는 배열의 자리를 정해야함\n"
   ]
  },
  {
   "cell_type": "code",
   "execution_count": 6,
   "id": "3cf2422f",
   "metadata": {},
   "outputs": [
    {
     "name": "stdout",
     "output_type": "stream",
     "text": [
      "US\n"
     ]
    }
   ],
   "source": [
    "# 최대 길이 지정 필요 없음 / 추가 가능\n",
    "country='US'\n",
    "print(country)"
   ]
  },
  {
   "cell_type": "code",
   "execution_count": 7,
   "id": "34eb45d7",
   "metadata": {},
   "outputs": [],
   "source": [
    "country = country + 'KOR'"
   ]
  },
  {
   "cell_type": "code",
   "execution_count": 9,
   "id": "697df413",
   "metadata": {},
   "outputs": [
    {
     "name": "stdout",
     "output_type": "stream",
     "text": [
      "USKOR\n"
     ]
    }
   ],
   "source": [
    "print(country)"
   ]
  },
  {
   "cell_type": "markdown",
   "id": "3055f7d3",
   "metadata": {},
   "source": [
    "## 3. 파이썬과 배열\n",
    " - 파이썬 리스트 활용"
   ]
  },
  {
   "cell_type": "code",
   "execution_count": 10,
   "id": "50c2235c",
   "metadata": {},
   "outputs": [
    {
     "data": {
      "text/plain": [
       "[1, 2, 3, 4, 5]"
      ]
     },
     "execution_count": 10,
     "metadata": {},
     "output_type": "execute_result"
    }
   ],
   "source": [
    "#1차원 배열 리스트로 구현시\n",
    "data = [1,2,3,4,5]\n",
    "data"
   ]
  },
  {
   "cell_type": "code",
   "execution_count": 11,
   "id": "05381aa8",
   "metadata": {},
   "outputs": [
    {
     "data": {
      "text/plain": [
       "[[1, 2, 3], [4, 5, 6], [7, 8, 9]]"
      ]
     },
     "execution_count": 11,
     "metadata": {},
     "output_type": "execute_result"
    }
   ],
   "source": [
    "#2차원배열 리스트로 구현시\n",
    "data = [[1,2,3],[4,5,6],[7,8,9]]\n",
    "data"
   ]
  },
  {
   "cell_type": "code",
   "execution_count": 12,
   "id": "2947ce5d",
   "metadata": {},
   "outputs": [
    {
     "data": {
      "text/plain": [
       "5"
      ]
     },
     "execution_count": 12,
     "metadata": {},
     "output_type": "execute_result"
    }
   ],
   "source": [
    "data[1][1]"
   ]
  },
  {
   "cell_type": "code",
   "execution_count": 13,
   "id": "7272cd53",
   "metadata": {},
   "outputs": [
    {
     "data": {
      "text/plain": [
       "[4, 5, 6]"
      ]
     },
     "execution_count": 13,
     "metadata": {},
     "output_type": "execute_result"
    }
   ],
   "source": [
    "data[1]"
   ]
  },
  {
   "cell_type": "code",
   "execution_count": 16,
   "id": "3b3cbfa5",
   "metadata": {},
   "outputs": [
    {
     "name": "stdout",
     "output_type": "stream",
     "text": [
      "9 8 7\n"
     ]
    }
   ],
   "source": [
    "##### 연습1 : 위의 2차원 배열에서 9,8,7 순서로 출력해보기\n",
    "print(data[2][2],\n",
    "data[2][1],\n",
    "data[2][0])"
   ]
  },
  {
   "cell_type": "markdown",
   "id": "e08fb178",
   "metadata": {},
   "source": [
    "#### 연습2 : 위의 dataset 리스트에서 전체 이름 안에 L 은 몇 번 나왔는지 빈도수| 출력하기"
   ]
  },
  {
   "cell_type": "code",
   "execution_count": 19,
   "id": "2d1ef85a",
   "metadata": {},
   "outputs": [],
   "source": [
    "dataset = ['Braund, Mr. Owen Harris',\n",
    "'Cumings, Mrs. John Bradley (Florence Briggs Thayer)',\n",
    "'Heikkinen, Miss. Laina',\n",
    "'Futrelle, Mrs. Jacques Heath (Lily May Peel)',\n",
    "'Allen, Mr. William Henry',\n",
    "'Moran, Mr. James',\n",
    "'McCarthy, Mr. Timothy J',\n",
    "'Palsson, Master. Gosta Leonard',\n",
    "'Johnson, Mrs. Oscar W (Elisabeth Vilhelmina Berg)',\n",
    "'Nasser, Mrs. Nicholas (Adele Achem)',\n",
    "'Sandstrom, Miss. Marguerite Rut',\n",
    "'Bonnell, Miss. Elizabeth',\n",
    "'Saundercock, Mr. William Henry',\n",
    "'Andersson, Mr. Anders Johan',\n",
    "'Vestrom, Miss. Hulda Amanda Adolfina',\n",
    "'Hewlett, Mrs. (Mary D Kingcome) ',\n",
    "'Rice, Master. Eugene',\n",
    "'Williams, Mr. Charles Eugene',\n",
    "'Vander Planke, Mrs. Julius (Emelia Maria Vandemoortele)',\n",
    "'Masselmani, Mrs. Fatima',\n",
    "'Fynney, Mr. Joseph J',\n",
    "'Beesley, Mr. Lawrence',\n",
    "'McGowan, Miss. Anna \"Annie\"',\n",
    "'Sloper, Mr. William Thompson',\n",
    "'Palsson, Miss. Torborg Danira',\n",
    "'Asplund, Mrs. Carl Oscar (Selma Augusta Emilia Johansson)',\n",
    "'Emir, Mr. Farred Chehab',\n",
    "'Fortune, Mr. Charles Alexander',\n",
    "'Dwyer, Miss. Ellen \"Nellie\"',\n",
    "'Todoroff, Mr. Lalio']"
   ]
  },
  {
   "cell_type": "code",
   "execution_count": 20,
   "id": "8318234c",
   "metadata": {},
   "outputs": [
    {
     "name": "stdout",
     "output_type": "stream",
     "text": [
      "5\n"
     ]
    }
   ],
   "source": [
    "l_count=0\n",
    "for data in dataset:\n",
    "    for index in range(len(data)):\n",
    "        if data[index] == 'L':\n",
    "            l_count +=1\n",
    "            \n",
    "print (l_count)"
   ]
  },
  {
   "cell_type": "code",
   "execution_count": null,
   "id": "fbd5253e",
   "metadata": {},
   "outputs": [],
   "source": []
  }
 ],
 "metadata": {
  "kernelspec": {
   "display_name": "Python 3",
   "language": "python",
   "name": "python3"
  },
  "language_info": {
   "codemirror_mode": {
    "name": "ipython",
    "version": 3
   },
   "file_extension": ".py",
   "mimetype": "text/x-python",
   "name": "python",
   "nbconvert_exporter": "python",
   "pygments_lexer": "ipython3",
   "version": "3.8.10"
  }
 },
 "nbformat": 4,
 "nbformat_minor": 5
}
