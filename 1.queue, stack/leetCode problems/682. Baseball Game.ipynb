{
 "cells": [
  {
   "cell_type": "markdown",
   "id": "ffadb555",
   "metadata": {},
   "source": [
    "# 682. Baseball Game\n",
    "\n",
    " 배열이 주어지고 배열안의 모든 값을 ouput으로 내는 문제이다. 하지만 특수한 경우들이있다.\n",
    "\n",
    "1. \"+\" 문자가 있는경우 전 두값을 더한 값을 \n",
    "\n",
    "2. \"D\" 문자가 있는경우 전 값의 두배를\n",
    "\n",
    "3. \"C\" 문자가 있는경우 전 값을 삭제\n",
    "\n"
   ]
  },
  {
   "cell_type": "markdown",
   "id": "091db868",
   "metadata": {},
   "source": [
    "### 처음 내가 푼 방법"
   ]
  },
  {
   "cell_type": "code",
   "execution_count": null,
   "id": "5e1906b3",
   "metadata": {},
   "outputs": [],
   "source": [
    "class Solution:\n",
    "    def calPoints(self, ops: List[str]) -> int:\n",
    "        record=[]\n",
    "        for i in range(len(ops)):\n",
    "            try : record.append(int(ops[i]))\n",
    "            except:\n",
    "                if ops[i]==\"C\":record.pop()\n",
    "                elif ops[i] == \"D\" : record.append(2*record[-1])\n",
    "                elif ops[i] == \"+\" : record.append(record[-2]+record[-1])\n",
    "                                \n",
    "        return sum(record)\n",
    "      "
   ]
  }
 ],
 "metadata": {
  "kernelspec": {
   "display_name": "Python 3",
   "language": "python",
   "name": "python3"
  },
  "language_info": {
   "codemirror_mode": {
    "name": "ipython",
    "version": 3
   },
   "file_extension": ".py",
   "mimetype": "text/x-python",
   "name": "python",
   "nbconvert_exporter": "python",
   "pygments_lexer": "ipython3",
   "version": "3.8.10"
  }
 },
 "nbformat": 4,
 "nbformat_minor": 5
}
