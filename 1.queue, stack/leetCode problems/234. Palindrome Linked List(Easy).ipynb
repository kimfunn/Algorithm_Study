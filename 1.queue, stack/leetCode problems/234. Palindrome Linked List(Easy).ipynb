{
 "cells": [
  {
   "cell_type": "markdown",
   "id": "d011079c",
   "metadata": {},
   "source": [
    "## 문제 Palindrome Linked List\n",
    "\n",
    "Given the head of a singly linked list, return true if it is a palindrome."
   ]
  },
  {
   "cell_type": "markdown",
   "id": "40dc6d19",
   "metadata": {},
   "source": [
    " 링크드 리스트가 주어졌을 때, 좌우대칭인 Palindrome인지 판별하는 문제.\n",
    "    \n",
    "    방법\n",
    "        1. Deque 사용\n",
    "        2. 리스트 파싱\n",
    "        3. Runner \n",
    "        \n",
    "        "
   ]
  },
  {
   "cell_type": "markdown",
   "id": "cf9a5879",
   "metadata": {},
   "source": [
    "### 1. 내가 풀이한 처음 방법"
   ]
  },
  {
   "cell_type": "code",
   "execution_count": 2,
   "id": "212718f8",
   "metadata": {},
   "outputs": [],
   "source": [
    "class ListNode:\n",
    "     def __init__(self, val=0, next=None):\n",
    "         self.val = val\n",
    "         self.next = next\n",
    "\n",
    "class Solution:\n",
    "    def isPalindrome(self, head: ListNode) -> bool:\n",
    "        if len(head)%2==1:\n",
    "            half_len=len(head)/2\n",
    "        else:\n",
    "            half_len=truc(len(head)/2)\n",
    "            \n",
    "        head2=[]\n",
    "        for i in half_len:\n",
    "            head2.append(head.pop(i))\n",
    "            \n",
    "        head3=head[0:half_len]\n",
    "        \n",
    "        if head2==head3:\n",
    "            return True\n",
    "        else:\n",
    "            return False"
   ]
  },
  {
   "cell_type": "markdown",
   "id": "fd935bab",
   "metadata": {},
   "source": [
    "TypeError: object of type 'ListNode' has no len()\n",
    "    if len(head)%2==1:\n",
    "Line 8 in isPalindrome (Solution.py)\n",
    "    ret = Solution().isPalindrome(param_1)\n",
    "Line 41 in _driver (Solution.py)\n",
    "    _driver()\n",
    "Line 52 in <module> (Solution.py)\n",
    "    \n",
    "    \n",
    "    에러가 난다.. 더 생각해봐야 할 것 같다 // 강의를 들은 후 풀기"
   ]
  },
  {
   "cell_type": "code",
   "execution_count": 13,
   "id": "3415ac08",
   "metadata": {},
   "outputs": [
    {
     "ename": "SyntaxError",
     "evalue": "invalid syntax (<ipython-input-13-8e9a74fa2b71>, line 1)",
     "output_type": "error",
     "traceback": [
      "\u001b[0;36m  File \u001b[0;32m\"<ipython-input-13-8e9a74fa2b71>\"\u001b[0;36m, line \u001b[0;32m1\u001b[0m\n\u001b[0;31m    Solution.isPalindrome(head:ListNode)\u001b[0m\n\u001b[0m                              ^\u001b[0m\n\u001b[0;31mSyntaxError\u001b[0m\u001b[0;31m:\u001b[0m invalid syntax\n"
     ]
    }
   ],
   "source": []
  },
  {
   "cell_type": "code",
   "execution_count": 8,
   "id": "16e85ccb",
   "metadata": {},
   "outputs": [
    {
     "name": "stdout",
     "output_type": "stream",
     "text": [
      "<__main__.ListNode object at 0x7ff7a2f91430>\n"
     ]
    }
   ],
   "source": []
  },
  {
   "cell_type": "code",
   "execution_count": null,
   "id": "5b796a62",
   "metadata": {},
   "outputs": [],
   "source": []
  }
 ],
 "metadata": {
  "kernelspec": {
   "display_name": "Python 3",
   "language": "python",
   "name": "python3"
  },
  "language_info": {
   "codemirror_mode": {
    "name": "ipython",
    "version": 3
   },
   "file_extension": ".py",
   "mimetype": "text/x-python",
   "name": "python",
   "nbconvert_exporter": "python",
   "pygments_lexer": "ipython3",
   "version": "3.8.10"
  }
 },
 "nbformat": 4,
 "nbformat_minor": 5
}
